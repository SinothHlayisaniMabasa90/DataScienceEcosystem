{
 "cells": [
  {
   "cell_type": "markdown",
   "id": "39b8b9e6",
   "metadata": {},
   "source": [
    "# Data Science Tools and Ecosystem"
   ]
  },
  {
   "cell_type": "markdown",
   "id": "7e8d3ad3",
   "metadata": {},
   "source": [
    "In this notebook, Data Science Tools and Ecosystem are summarized."
   ]
  },
  {
   "cell_type": "markdown",
   "id": "b29f7fff",
   "metadata": {},
   "source": [
    "# Objectives:"
   ]
  },
  {
   "cell_type": "markdown",
   "id": "4bbc4f23",
   "metadata": {},
   "source": [
    "Some of the popular languages that Data Scientists use are:"
   ]
  },
  {
   "cell_type": "markdown",
   "id": "e64a62b0",
   "metadata": {},
   "source": [
    "Ordered list:\n",
    "\n",
    "Python,\n",
    "R,\n",
    "SQL,\n",
    "Scala,\n",
    "Julia,\n",
    "JavaScript,\n",
    "Java,\n",
    "C/C++ and\n",
    "MATLAB"
   ]
  },
  {
   "cell_type": "markdown",
   "id": "ca27e84e",
   "metadata": {},
   "source": [
    "Some of the commonly used libraries used by Data Scientists include:"
   ]
  },
  {
   "cell_type": "markdown",
   "id": "fafac7c7",
   "metadata": {},
   "source": [
    "Ordered list:\n",
    "\n",
    "TensorFlow,\n",
    "NumPy,\n",
    "SciPy ,\n",
    "Pandas,\n",
    "Matplotlib ,\n",
    "Keras,\n",
    "SciKit-Learn,\n",
    "PyTorch,\n",
    "Scrapy,\n",
    "BeautifulSoup,\n",
    "LightGBM,\n",
    "ELI5,\n",
    "Theano,\n",
    "NuPIC,\n",
    "Ramp,\n",
    "Pipenv,\n",
    "Bob,\n",
    "PyBrain,\n",
    "Caffe2 and\n",
    "Chainer\n"
   ]
  },
  {
   "cell_type": "markdown",
   "id": "9ed89f03",
   "metadata": {},
   "source": [
    "### Data Science Tools\n",
    "\n",
    "| Jupyter Notebook |\n",
    "| RStudio Notebook |\n",
    "| Visual Studio |"
   ]
  },
  {
   "cell_type": "markdown",
   "id": "e44e5985",
   "metadata": {},
   "source": [
    "### Below are a few examples of evaluating arithmetic expressions in Python"
   ]
  },
  {
   "cell_type": "code",
   "execution_count": 1,
   "id": "2e06544d",
   "metadata": {},
   "outputs": [
    {
     "data": {
      "text/plain": [
       "17"
      ]
     },
     "execution_count": 1,
     "metadata": {},
     "output_type": "execute_result"
    }
   ],
   "source": [
    "#This a simple arithmetic expression to mutiply then add integers\n",
    "(3*4)+5"
   ]
  },
  {
   "cell_type": "code",
   "execution_count": 2,
   "id": "69f043a8",
   "metadata": {},
   "outputs": [
    {
     "data": {
      "text/plain": [
       "3.3333333333333335"
      ]
     },
     "execution_count": 2,
     "metadata": {},
     "output_type": "execute_result"
    }
   ],
   "source": [
    "# This will convert 200 minutes to hours by diving by 60\n",
    "200/60"
   ]
  },
  {
   "cell_type": "markdown",
   "id": "8d1ae088",
   "metadata": {},
   "source": [
    "## Author\n",
    "Name: Sinoth Hlayisani Mabasa"
   ]
  },
  {
   "cell_type": "code",
   "execution_count": null,
   "id": "84e9273c",
   "metadata": {},
   "outputs": [],
   "source": []
  }
 ],
 "metadata": {
  "kernelspec": {
   "display_name": "Python 3 (ipykernel)",
   "language": "python",
   "name": "python3"
  },
  "language_info": {
   "codemirror_mode": {
    "name": "ipython",
    "version": 3
   },
   "file_extension": ".py",
   "mimetype": "text/x-python",
   "name": "python",
   "nbconvert_exporter": "python",
   "pygments_lexer": "ipython3",
   "version": "3.9.13"
  }
 },
 "nbformat": 4,
 "nbformat_minor": 5
}
